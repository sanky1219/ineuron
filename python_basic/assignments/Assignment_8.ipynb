{
 "cells": [
  {
   "cell_type": "markdown",
   "metadata": {},
   "source": [
    "1. Is the Python Standard Library included with PyInputPlus?\n",
    "2. Why is PyInputPlus commonly imported with import pyinputplus as pypi?\n",
    "3. How do you distinguish between inputInt() and inputFloat()?\n",
    "4. Using PyInputPlus, how do you ensure that the user enters a whole number between 0 and 99?\n",
    "5. What is transferred to the keyword arguments allowRegexes and blockRegexes?\n",
    "6. If a blank input is entered three times, what does inputStr(limit=3) do?\n",
    "7. If blank input is entered three times, what does inputStr(limit=3, default='hello') do?\n"
   ]
  },
  {
   "cell_type": "code",
   "execution_count": null,
   "metadata": {},
   "outputs": [],
   "source": [
    "#1\n",
    "No. PyInputPlus is a third-party module and doesn’t come with the Python Standard Library.\n",
    "\n",
    "#2\n",
    "This optionally makes your code shorter to type: you can type pyip.inputStr() instead of pyinputplus.inputStr().\n",
    "    \n",
    "\n",
    "#3\n",
    "The inputInt() function returns an int value, while the inputFloat() function returns a float value. \n",
    "This is the difference between returning 4 and 4.0.\n",
    "    \n",
    "\n",
    "#4\n",
    "Call pyip.inputint(min=0, max=99).\n",
    "\n",
    "\n",
    "#5\n",
    "A list of regex strings that are either explicitly allowed or denied\n",
    "\n",
    "\n",
    "#6\n",
    "The function will raise RetryLimitException.\n",
    "\n",
    "\n",
    "#7\n",
    "The function returns the value 'hello'.\n",
    "\n"
   ]
  }
 ],
 "metadata": {
  "kernelspec": {
   "display_name": "Python 3",
   "language": "python",
   "name": "python3"
  },
  "language_info": {
   "codemirror_mode": {
    "name": "ipython",
    "version": 3
   },
   "file_extension": ".py",
   "mimetype": "text/x-python",
   "name": "python",
   "nbconvert_exporter": "python",
   "pygments_lexer": "ipython3",
   "version": "3.8.5"
  }
 },
 "nbformat": 4,
 "nbformat_minor": 4
}
