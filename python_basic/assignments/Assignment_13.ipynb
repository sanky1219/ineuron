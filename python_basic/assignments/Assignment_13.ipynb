{
 "cells": [
  {
   "cell_type": "markdown",
   "metadata": {},
   "source": [
    "1. What advantages do Excel spreadsheets have over CSV spreadsheets?\n",
    "\n",
    "\n",
    "CSV file can’t perform operations on data while Excel can perform operations on the data, further we can perform data exploration analysis using advanced aggreation features.\n",
    "\n",
    "\n",
    "\n",
    "2.What do you pass to csv.reader() and csv.writer() to create reader and writer objects?\n",
    "\n",
    "\n",
    "We pass open() function to csv.reader() and open() function with write mode pass to csv.writer() to create reader and writer objects.\n",
    "\n",
    "3. What modes do File objects for reader and writer objects need to be opened in?\n",
    "\n",
    "\n",
    "File objects for reader should be opened in read(r) mode and for writer objects it is write(w) mode.\n",
    "\n",
    "\n",
    "\n",
    "4. What method takes a list argument and writes it to a CSV file?\n",
    "\n",
    "\n",
    "The writerow() method for Writer objects takes a list argument. Each value in the list is placed in its own cell in the output CSV file. The return value of writerow() is the number of characters written to the file for that row\n",
    "\n",
    "\n",
    "\n",
    "5. What do the keyword arguments delimiter and line terminator do?\n",
    "\n",
    "\n",
    "The delimiter is the character that appears between cells on a row. By default, the delimiter for a CSV file is a comma. The line terminator is the character that comes at the end of a row. By default, the line terminator is a newline. You can change characters to different values by using the delimiter and lineterminator keyword arguments with csv.writer()\n",
    "\n",
    "\n",
    "\n",
    "6. What function takes a string of JSON data and returns a Python data structure?\n",
    "\n",
    "\n",
    "json.loads() function is used convert string of JSON data to python data structure dictionary.\n",
    "\n",
    "\n",
    "\n",
    "7. What function takes a Python data structure and returns a string of JSON data?\n",
    "\n",
    "\n",
    "\n",
    "The json.dumps() function will translate a Python value into a string of JSON-formatted data\n"
   ]
  }
 ],
 "metadata": {
  "kernelspec": {
   "display_name": "Python 3",
   "language": "python",
   "name": "python3"
  },
  "language_info": {
   "codemirror_mode": {
    "name": "ipython",
    "version": 3
   },
   "file_extension": ".py",
   "mimetype": "text/x-python",
   "name": "python",
   "nbconvert_exporter": "python",
   "pygments_lexer": "ipython3",
   "version": "3.8.5"
  }
 },
 "nbformat": 4,
 "nbformat_minor": 4
}
